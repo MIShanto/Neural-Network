{
 "cells": [
  {
   "cell_type": "code",
   "execution_count": 7,
   "metadata": {},
   "outputs": [],
   "source": [
    "import numpy as np\n",
    "import matplotlib.pyplot as plt\n",
    "import tensorflow as tf\n",
    "from tensorflow.keras.preprocessing.image import ImageDataGenerator\n",
    "\n",
    "%matplotlib inline"
   ]
  },
  {
   "cell_type": "code",
   "execution_count": 5,
   "metadata": {},
   "outputs": [],
   "source": [
    "from keras.datasets import mnist"
   ]
  },
  {
   "cell_type": "code",
   "execution_count": 6,
   "metadata": {},
   "outputs": [
    {
     "data": {
      "text/plain": [
       "<module 'keras.datasets.mnist' from 'C:\\\\Users\\\\Abirk\\\\anaconda3\\\\lib\\\\site-packages\\\\keras\\\\datasets\\\\mnist.py'>"
      ]
     },
     "execution_count": 6,
     "metadata": {},
     "output_type": "execute_result"
    }
   ],
   "source": [
    "mnist"
   ]
  },
  {
   "cell_type": "code",
   "execution_count": 14,
   "metadata": {},
   "outputs": [],
   "source": [
    "(X_train_origin, Y_train_origin), (X_test_origin, Y_test_origin) = mnist.load_data()"
   ]
  },
  {
   "cell_type": "code",
   "execution_count": 9,
   "metadata": {},
   "outputs": [
    {
     "name": "stdout",
     "output_type": "stream",
     "text": [
      "(60000, 28, 28)\n",
      "(60000,)\n",
      "(10000, 28, 28)\n",
      "(10000,)\n"
     ]
    }
   ],
   "source": [
    "print(X_train_origin.shape)\n",
    "print(Y_train_origin.shape)\n",
    "print(X_test_origin.shape)\n",
    "print(Y_test_origin.shape)"
   ]
  },
  {
   "cell_type": "code",
   "execution_count": 10,
   "metadata": {},
   "outputs": [
    {
     "name": "stdout",
     "output_type": "stream",
     "text": [
      "y = 4\n",
      "x = [[  0   0   0   0   0   0   0   0   0   0   0   0   0   0   0   0   0   0\n",
      "    0   0   0   0   0   0   0   0   0   0]\n",
      " [  0   0   0   0   0   0   0   0   0   0   0   0   0   0   0   0   0   0\n",
      "    0   0   0   0   0   0   0   0   0   0]\n",
      " [  0   0   0   0   0   0   0   0   0   0   0   0   0   0   0   0   0   0\n",
      "    0   0   0   0   0   0   0   0   0   0]\n",
      " [  0   0   0   0   0   0   0   0   0   0   0   0   0   0   0   0   0   0\n",
      "    0   0   0   0   0   0   0   0   0   0]\n",
      " [  0   0   0   0   0   0   0   0   0   0   0   0   0   0   0   0   0   0\n",
      "    0   0   0   0   0   0   0   0   0   0]\n",
      " [  0   0   0   0   0   0   0   0   0   0   0   0   0   0   0   0 125 254\n",
      "  210  89   0   0   0   0   0   0   0   0]\n",
      " [  0   0   0   0   0   0   0   0 132  47   0   0   0   0   0   7 243 253\n",
      "  253 191   0   0   0   0   0   0   0   0]\n",
      " [  0   0   0   0   0   0  17  95 237 232   5   0   0   0   0   7 253 253\n",
      "  253 191   0   0   0   0   0   0   0   0]\n",
      " [  0   0   0   0   0   0  56 253 253 253   6   0   0   0   0   7 253 253\n",
      "  253 191   0   0   0   0   0   0   0   0]\n",
      " [  0   0   0   0   0   0  56 253 253 253   6   0   0   0   0   7 253 253\n",
      "  253 191   0   0   0   0   0   0   0   0]\n",
      " [  0   0   0   0   0   0  56 253 253 253   6   0   0   0   0   7 253 253\n",
      "  253 191   0   0   0   0   0   0   0   0]\n",
      " [  0   0   0   0   0   0  56 253 253 253  77   0   0   0   0   7 253 253\n",
      "  253 191   0   0   0   0   0   0   0   0]\n",
      " [  0   0   0   0   0   0 116 253 253 253 191  12   0  81 111 189 253 253\n",
      "  253 191   0   0   0   0   0   0   0   0]\n",
      " [  0   0   0   0   0   0 192 253 253 253 253 230 227 246 253 253 253 253\n",
      "  253  68   0   0   0   0   0   0   0   0]\n",
      " [  0   0   0   0   0  62 242 253 253 253 253 253 253 253 253 253 253 253\n",
      "  253  54   0   0   0   0   0   0   0   0]\n",
      " [  0   0   0   0   0  21 182 253 253 253 253 253 253 253 253 253 253 253\n",
      "  237  70   0   0   0   0   0   0   0   0]\n",
      " [  0   0   0   0   0   0  20 107 226 226 226 226 226 125 104 241 253 253\n",
      "  224 172   0   0   0   0   0   0   0   0]\n",
      " [  0   0   0   0   0   0   0   0   0   0   0   0   0   0   0 144 253 253\n",
      "  253 191   0   0   0   0   0   0   0   0]\n",
      " [  0   0   0   0   0   0   0   0   0   0   0   0   0   0   0  78 253 253\n",
      "  253 191   0   0   0   0   0   0   0   0]\n",
      " [  0   0   0   0   0   0   0   0   0   0   0   0   0   0   0 137 253 253\n",
      "  253 191   0   0   0   0   0   0   0   0]\n",
      " [  0   0   0   0   0   0   0   0   0   0   0   0   0   0   0 144 253 253\n",
      "  253 191   0   0   0   0   0   0   0   0]\n",
      " [  0   0   0   0   0   0   0   0   0   0   0   0   0   0  22 230 253 253\n",
      "  253 191   0   0   0   0   0   0   0   0]\n",
      " [  0   0   0   0   0   0   0   0   0   0   0   0   0   0  28 253 253 253\n",
      "  253 191   0   0   0   0   0   0   0   0]\n",
      " [  0   0   0   0   0   0   0   0   0   0   0   0   0   0  26 244 253 253\n",
      "  201  72   0   0   0   0   0   0   0   0]\n",
      " [  0   0   0   0   0   0   0   0   0   0   0   0   0   0   0  70 253 253\n",
      "   97   0   0   0   0   0   0   0   0   0]\n",
      " [  0   0   0   0   0   0   0   0   0   0   0   0   0   0   0   0   0   0\n",
      "    0   0   0   0   0   0   0   0   0   0]\n",
      " [  0   0   0   0   0   0   0   0   0   0   0   0   0   0   0   0   0   0\n",
      "    0   0   0   0   0   0   0   0   0   0]\n",
      " [  0   0   0   0   0   0   0   0   0   0   0   0   0   0   0   0   0   0\n",
      "    0   0   0   0   0   0   0   0   0   0]]\n"
     ]
    },
    {
     "data": {
      "image/png": "[encoded data removed]",
      "text/plain": [
       "<Figure size 432x288 with 1 Axes>"
      ]
     },
     "metadata": {
      "needs_background": "light"
     },
     "output_type": "display_data"
    }
   ],
   "source": [
    "# Example of a picture\n",
    "index = 58\n",
    "plt.imshow(X_train_origin[index])\n",
    "print (\"y = \" + str(Y_train_origin[index]))\n",
    "print (\"x = \" + str(X_train_origin[index]))"
   ]
  },
  {
   "cell_type": "code",
   "execution_count": 15,
   "metadata": {},
   "outputs": [
    {
     "name": "stdout",
     "output_type": "stream",
     "text": [
      "(60000, 28, 28)\n",
      "(10000, 28, 28)\n",
      "\n",
      "\n",
      "(60000, 28, 28, 1)\n",
      "(10000, 28, 28, 1)\n"
     ]
    }
   ],
   "source": [
    "# expand input datas by 1 at the end. to use perfect stride.. \n",
    "\n",
    "X_train_origin_expanded = np.expand_dims(X_train_origin, axis = 3)\n",
    "X_test_origin_expanded = np.expand_dims(X_test_origin, axis = 3)\n",
    "\n",
    "print(X_train_origin.shape)\n",
    "print(X_test_origin.shape)\n",
    "print(\"\\n\")\n",
    "print(X_train_origin_expanded.shape)\n",
    "print(X_test_origin_expanded.shape)"
   ]
  },
  {
   "cell_type": "code",
   "execution_count": 16,
   "metadata": {},
   "outputs": [],
   "source": [
    "# create an image data generator\n",
    "\n",
    "train_datagen = ImageDataGenerator(\n",
    "                    rescale = 1./255,\n",
    "                    rotation_range = 40,\n",
    "                    width_shift_range = 0.2,\n",
    "                    height_shift_range = 0.2,\n",
    "                    shear_range=0.2,\n",
    "                    zoom_range=0.2,\n",
    "                    horizontal_flip=True,\n",
    "                    fill_mode='nearest'\n",
    "                )\n",
    "\n",
    "validation_datagen = ImageDataGenerator(\n",
    "                        rescale=1 / 255\n",
    "                     )"
   ]
  },
  {
   "cell_type": "code",
   "execution_count": 17,
   "metadata": {},
   "outputs": [],
   "source": [
    "# model\n",
    "\n",
    "model = tf.keras.models.Sequential([\n",
    "            tf.keras.layers.Conv2D(32, (3,3), activation='sigmoid', input_shape=(28, 28, 1)),\n",
    "            tf.keras.layers.MaxPooling2D(2,2),\n",
    "            tf.keras.layers.Conv2D(32, (3,3), activation='sigmoid'),\n",
    "            tf.keras.layers.MaxPooling2D(2,2),\n",
    "            tf.keras.layers.Flatten(),\n",
    "            tf.keras.layers.Dense(512, activation='sigmoid'),\n",
    "            tf.keras.layers.Dense(26, activation='softmax')\n",
    "         ])"
   ]
  },
  {
   "cell_type": "code",
   "execution_count": 18,
   "metadata": {},
   "outputs": [],
   "source": [
    "#compile model\n",
    "\n",
    "model.compile( \n",
    "                optimizer='adam',\n",
    "                loss='sparse_categorical_crossentropy',\n",
    "                metrics=['accuracy']\n",
    "            )"
   ]
  },
  {
   "cell_type": "code",
   "execution_count": 19,
   "metadata": {},
   "outputs": [],
   "source": [
    "#configure generators\n",
    "\n",
    "train_gen = train_datagen.flow(\n",
    "    X_train_origin_expanded,\n",
    "    Y_train_origin,\n",
    "    batch_size=10\n",
    ")\n",
    "\n",
    "val_gen = validation_datagen.flow(\n",
    "    X_test_origin_expanded,\n",
    "    Y_test_origin,\n",
    "    batch_size=10\n",
    ")\n"
   ]
  },
  {
   "cell_type": "code",
   "execution_count": null,
   "metadata": {},
   "outputs": [],
   "source": [
    "#train model\n",
    "\n",
    "history = model.fit_generator(\n",
    "    train_gen,\n",
    "    epochs=2,\n",
    "    validation_data=val_gen\n",
    ")\n",
    "\n",
    "model.evaluate(X_test_origin_expanded, Y_test_origin, verbose=0)"
   ]
  }
 ],
 "metadata": {
  "kernelspec": {
   "display_name": "Python 3",
   "language": "python",
   "name": "python3"
  },
  "language_info": {
   "codemirror_mode": {
    "name": "ipython",
    "version": 3
   },
   "file_extension": ".py",
   "mimetype": "text/x-python",
   "name": "python",
   "nbconvert_exporter": "python",
   "pygments_lexer": "ipython3",
   "version": "3.7.6"
  }
 },
 "nbformat": 4,
 "nbformat_minor": 4
}
